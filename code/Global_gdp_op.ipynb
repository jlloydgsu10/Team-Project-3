{
 "cells": [
  {
   "cell_type": "code",
   "execution_count": 3,
   "id": "30954fdf",
   "metadata": {},
   "outputs": [],
   "source": [
    "import pandas as pd\n",
    "import numpy as np\n",
    "import matplotlib.pyplot as plt\n",
    "# import matplotlib.image as mpimg\n",
    "from matplotlib import rcParams\n",
    "import matplotlib.dates as mdates"
   ]
  },
  {
   "cell_type": "code",
   "execution_count": 22,
   "id": "e0f9b256",
   "metadata": {},
   "outputs": [
    {
     "data": {
      "text/plain": [
       "Date                              object\n",
       "Date.1                             int64\n",
       "World Consumption Change         float64\n",
       "World GDP Change                 float64\n",
       "WTI Real Price (GDP Deflated)    float64\n",
       "dtype: object"
      ]
     },
     "execution_count": 22,
     "metadata": {},
     "output_type": "execute_result"
    }
   ],
   "source": [
    "global_gdp_file = \"output/Demand_summary- global GDP.csv\"\n",
    "global_gdp_df = pd.read_csv(global_gdp_file)\n",
    "# g_gdp = global_gdp_df[\"Date\"]\n",
    "# g_gdp.head()\n",
    "# qs = global_gdp_df['Date'].str.replace(r'(Q\\d) (\\d+)', r'\\2-\\1')\n",
    "# qs\n",
    "# global_gdp_df['date'] = pd.PeriodIndex(qs, freq='Q').to_timestamp()\n",
    "# global_gdp_df\n",
    "global_gdp_df.dtypes"
   ]
  },
  {
   "cell_type": "code",
   "execution_count": null,
   "id": "18aa60b4",
   "metadata": {},
   "outputs": [],
   "source": []
  },
  {
   "cell_type": "code",
   "execution_count": null,
   "id": "df1a951e",
   "metadata": {},
   "outputs": [],
   "source": []
  }
 ],
 "metadata": {
  "kernelspec": {
   "display_name": "Python 3",
   "language": "python",
   "name": "python3"
  },
  "language_info": {
   "codemirror_mode": {
    "name": "ipython",
    "version": 3
   },
   "file_extension": ".py",
   "mimetype": "text/x-python",
   "name": "python",
   "nbconvert_exporter": "python",
   "pygments_lexer": "ipython3",
   "version": "3.6.10"
  }
 },
 "nbformat": 4,
 "nbformat_minor": 5
}
